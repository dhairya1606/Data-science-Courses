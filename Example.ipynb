{
  "metadata": {
    "language_info": {
      "codemirror_mode": {
        "name": "python",
        "version": 3
      },
      "file_extension": ".py",
      "mimetype": "text/x-python",
      "name": "python",
      "nbconvert_exporter": "python",
      "pygments_lexer": "ipython3",
      "version": "3.8"
    },
    "kernelspec": {
      "name": "python",
      "display_name": "Pyolite",
      "language": "python"
    }
  },
  "nbformat_minor": 4,
  "nbformat": 4,
  "cells": [
    {
      "cell_type": "markdown",
      "source": "### List of Data science languages",
      "metadata": {}
    },
    {
      "cell_type": "markdown",
      "source": "Languages are:\n    1. R languge\n    2. Python\n    3. JavaScript\n    4. Scala\n    5. SQL\n    6. Julia\n    ",
      "metadata": {}
    },
    {
      "cell_type": "markdown",
      "source": "Libraries are:\n    1. Tensorflow\n    2. Numpy\n    3. Scipy\n    4. Pandas\n    5. Matplotlib\n    6. Keras",
      "metadata": {}
    },
    {
      "cell_type": "markdown",
      "source": "|Tools of data science|\n|---------------------|\n|SAS|\n|Apache Hadoop|\n|Tablue|\n|TensorFlow|\n|BigML|",
      "metadata": {}
    },
    {
      "cell_type": "markdown",
      "source": "print($$\n\\frac{a+b}{X+Y}, x^4, e^{i\\pi}, X_i, Y_{ij}\\\\  \\sqrt[4]{5}\n$$)",
      "metadata": {}
    },
    {
      "cell_type": "markdown",
      "source": "$$\n\\sin(-\\alpha)=-\\sin(\\alpha)\\\\\n\\arccos(x)=\\arcsin(u)\\\\\n\\log_n(n)=1\\\\\n\\tan(x)=\\frac{\\sin(x)}{\\cos(x)}\n$$",
      "metadata": {}
    },
    {
      "cell_type": "code",
      "source": "a = 5\nb = 10\nc=a+b\nprint(\"addition of a and b is =\",c)",
      "metadata": {
        "trusted": true
      },
      "execution_count": 2,
      "outputs": [
        {
          "name": "stdout",
          "text": "addition of a and b is = 15\n",
          "output_type": "stream"
        }
      ]
    },
    {
      "cell_type": "code",
      "source": "a = 5\nb = 10\nc=a*b\nprint(\"multiplication of a and b is =\",c)",
      "metadata": {
        "trusted": true
      },
      "execution_count": 3,
      "outputs": [
        {
          "name": "stdout",
          "text": "multiplication of a and b is = 50\n",
          "output_type": "stream"
        }
      ]
    },
    {
      "cell_type": "code",
      "source": "import time \nn=10000\ntime_format = time.strftime(\"%H:%M:%S\", time.gmtime(n))\nprint(\"Time in preferred format :-\",time_format)",
      "metadata": {
        "trusted": true
      },
      "execution_count": 1,
      "outputs": [
        {
          "name": "stdout",
          "text": "Time in preferred format :- 02:46:40\n",
          "output_type": "stream"
        }
      ]
    },
    {
      "cell_type": "code",
      "source": "import time\na = 40\nb = a/60\nprint(\"The time in hours is = \",b)",
      "metadata": {
        "trusted": true
      },
      "execution_count": 4,
      "outputs": [
        {
          "name": "stdout",
          "text": "The time in hours is =  0.6666666666666666\n",
          "output_type": "stream"
        }
      ]
    },
    {
      "cell_type": "markdown",
      "source": "## Unordered List\n1. Dhairya Kalathia\n   * Leader\n2. Niraj Mangukiya\n   * Co-leader\n     * Member\n3. Kirti Solanki\n   * Member\n4. Harshit Mishra\n   * Member",
      "metadata": {}
    },
    {
      "cell_type": "markdown",
      "source": "#### Dhairya Kalathia\n\n1. 20 yrs old\n2. loves to drive a car and ride motorbike\n3. B.E Computer Engineering\n4. Future Data scientist",
      "metadata": {}
    }
  ]
}